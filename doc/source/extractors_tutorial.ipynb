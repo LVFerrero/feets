{
 "cells": [
  {
   "cell_type": "code",
   "execution_count": 1,
   "metadata": {
    "nbsphinx": "hidden"
   },
   "outputs": [],
   "source": [
    "import warnings\n",
    "\n",
    "%matplotlib inline\n",
    "import matplotlib.pyplot as plt\n",
    "\n",
    "import numpy as np\n",
    "np.random.seed(24)\n",
    "\n",
    "import seaborn as sns\n",
    "\n",
    "plt.rcParams[\"figure.figsize\"] = 9, 4.51\n",
    "\n",
    "import expectexception\n",
    "\n",
    "import feets\n",
    "\n",
    "# warnings.simplefilter(\"ignore\", feets.extractors.ExtractorWarning)"
   ]
  },
  {
   "cell_type": "markdown",
   "metadata": {},
   "source": [
    "# Extractors Tutorial\n",
    "\n",
    "## Introduction\n",
    "\n",
    "This tutorial is a guide of how you can create your custom feature extraction routine\n",
    "and add this extractor to feets.\n",
    "\n",
    "## Fundamentals\n",
    "\n",
    "- The feature extraction as modeled as a class.\n",
    "- The class must inerith from `feets.Extractor`\n",
    "- The extractor class must has at least three elements\n",
    "    1. **data**: list with at least one valid feets data \n",
    "       (*time*, *magnitude*, *error*, *magnitude2*, *aligned_time*, *aligned_magnitude*, *aligned_magnitude2*, \n",
    "       *aligned_error* or *aligned_error2*)\n",
    "    2. **features**: list with the name of the features that this extractor generates.\n",
    "    3. **fit**: a method with the same parameters defined in the `data` list. `fit()` must return\n",
    "       a dictionary with keys equals to the `features` list.\n",
    "\n",
    "## Example 1: `MaxMagMinTime` extractor\n",
    "\n",
    "Let's say we need to create a feature extractor called **MaxMagMinTime** that must return 2 features:\n",
    "\n",
    "1. **magmax**: The maximun magnitude \n",
    "2. **mintime**: the minimun time"
   ]
  },
  {
   "cell_type": "code",
   "execution_count": 2,
   "metadata": {},
   "outputs": [],
   "source": [
    "import feets\n",
    "\n",
    "class MaxMagMinTime(feets.Extractor):  # must inherit from Extractor\n",
    "\n",
    "    data = ['magnitude', 'time']  # Which data is needed \n",
    "                                  # to calculate this feature\n",
    "    \n",
    "    features = [\"magmax\", \"mintime\"] # The names of the expected \n",
    "                                     # feature\n",
    "    \n",
    "    # The values of data are the params\n",
    "    def fit(self, magnitude, time):        \n",
    "        # The return value must be a dict with the same values \n",
    "        # defined in  features\n",
    "        return {\"magmax\": magnitude.max(), \"mintime\": time.min()}  "
   ]
  },
  {
   "cell_type": "markdown",
   "metadata": {},
   "source": [
    "Finally to make the extractor available for the `FeaturSpace` class, you need to register it with the command:"
   ]
  },
  {
   "cell_type": "code",
   "execution_count": 3,
   "metadata": {},
   "outputs": [
    {
     "data": {
      "text/plain": [
       "__main__.MaxMagMinTime"
      ]
     },
     "execution_count": 3,
     "metadata": {},
     "output_type": "execute_result"
    }
   ],
   "source": [
    "feets.register_extractor(MaxMagMinTime)"
   ]
  },
  {
   "cell_type": "markdown",
   "metadata": {},
   "source": [
    "Now the extractor are available as any other provided in feets:"
   ]
  },
  {
   "cell_type": "code",
   "execution_count": 4,
   "metadata": {},
   "outputs": [
    {
     "data": {
      "text/plain": [
       "<FeatureSpace: MaxMagMinTime()>"
      ]
     },
     "execution_count": 4,
     "metadata": {},
     "output_type": "execute_result"
    }
   ],
   "source": [
    "# let's create the feature-space\n",
    "fs = feets.FeatureSpace(only=[\"magmax\", \"mintime\"])\n",
    "fs"
   ]
  },
  {
   "cell_type": "code",
   "execution_count": 5,
   "metadata": {},
   "outputs": [
    {
     "data": {
      "text/plain": [
       "FeatureSet(features=<magmax, mintime>, timeserie=<time, magnitude>)"
      ]
     },
     "execution_count": 5,
     "metadata": {},
     "output_type": "execute_result"
    }
   ],
   "source": [
    "# extract the features\n",
    "fs.extract(time=[1,2,3], magnitude=[100, 200, 300])"
   ]
  },
  {
   "cell_type": "markdown",
   "metadata": {},
   "source": [
    "## Example 2: `WeightedMean` extractor - Optional data.\n",
    "\n",
    "Any extractor can set some parameters of the light curves as optional. For this, the `Extractors` provide the `optional` attribute which is a list that any component defined in `data` can have.\n",
    "\n",
    "For example, if we wanted to make the `WeightedMean` extractor which calculates the average of the magnitudes optionally weighted by the error:"
   ]
  },
  {
   "cell_type": "code",
   "execution_count": 6,
   "metadata": {},
   "outputs": [],
   "source": [
    "class WeightedMean(feets.Extractor):\n",
    "\n",
    "    data = ['magnitude', 'error']\n",
    "    optional = ['error']\n",
    "    \n",
    "    features = [\"weighted_mean\"] \n",
    "    \n",
    "    # if error is not provided to the FeatureSpace,\n",
    "    # the value of erro will be None.\n",
    "    def fit(self, magnitude, error):\n",
    "        if error is None:\n",
    "            weighted_mean = np.average(magnitude) \n",
    "        else:\n",
    "            weighted_mean = np.average(magnitude, weights=error)\n",
    "        return {\"weighted_mean\": weighted_mean}  "
   ]
  },
  {
   "cell_type": "code",
   "execution_count": 7,
   "metadata": {},
   "outputs": [
    {
     "data": {
      "text/plain": [
       "__main__.WeightedMean"
      ]
     },
     "execution_count": 7,
     "metadata": {},
     "output_type": "execute_result"
    }
   ],
   "source": [
    "feets.register_extractor(WeightedMean)"
   ]
  },
  {
   "cell_type": "markdown",
   "metadata": {},
   "source": [
    "The interesting thing about this extractor is that it is selected by the `FeatureSpace` regardless of whether we request for the error or not (In both cases the new extractor will be at the end of the set):"
   ]
  },
  {
   "cell_type": "code",
   "execution_count": 8,
   "metadata": {},
   "outputs": [
    {
     "data": {
      "text/plain": [
       "frozenset({Amplitude(),\n",
       "           AndersonDarling(),\n",
       "           AutocorLength(nlags=100),\n",
       "           Beyond1Std(),\n",
       "           Con(consecutiveStar=3),\n",
       "           FluxPercentileRatioMid20(),\n",
       "           FluxPercentileRatioMid35(),\n",
       "           FluxPercentileRatioMid50(),\n",
       "           FluxPercentileRatioMid65(),\n",
       "           FluxPercentileRatioMid80(),\n",
       "           Gskew(interpolation=nearest),\n",
       "           Mean(),\n",
       "           MeanVariance(),\n",
       "           MedianAbsDev(),\n",
       "           MedianBRP(),\n",
       "           PairSlopeTrend(),\n",
       "           PercentAmplitude(),\n",
       "           PercentDifferenceFluxPercentile(),\n",
       "           Q31(),\n",
       "           RCS(),\n",
       "           Skew(),\n",
       "           SmallKurtosis(),\n",
       "           Std(),\n",
       "           StetsonK(),\n",
       "           WeightedMean()})"
      ]
     },
     "execution_count": 8,
     "metadata": {},
     "output_type": "execute_result"
    }
   ],
   "source": [
    "fs = feets.FeatureSpace(data=[\"magnitude\", \"error\"])\n",
    "fs.features_extractors_"
   ]
  },
  {
   "cell_type": "code",
   "execution_count": 9,
   "metadata": {},
   "outputs": [
    {
     "data": {
      "text/plain": [
       "frozenset({Amplitude(),\n",
       "           AndersonDarling(),\n",
       "           AutocorLength(nlags=100),\n",
       "           Con(consecutiveStar=3),\n",
       "           FluxPercentileRatioMid20(),\n",
       "           FluxPercentileRatioMid35(),\n",
       "           FluxPercentileRatioMid50(),\n",
       "           FluxPercentileRatioMid65(),\n",
       "           FluxPercentileRatioMid80(),\n",
       "           Gskew(interpolation=nearest),\n",
       "           Mean(),\n",
       "           MeanVariance(),\n",
       "           MedianAbsDev(),\n",
       "           MedianBRP(),\n",
       "           PairSlopeTrend(),\n",
       "           PercentAmplitude(),\n",
       "           PercentDifferenceFluxPercentile(),\n",
       "           Q31(),\n",
       "           RCS(),\n",
       "           Skew(),\n",
       "           SmallKurtosis(),\n",
       "           Std(),\n",
       "           WeightedMean()})"
      ]
     },
     "execution_count": 9,
     "metadata": {},
     "output_type": "execute_result"
    }
   ],
   "source": [
    "fs = feets.FeatureSpace(data=[\"magnitude\"])\n",
    "fs.features_extractors_"
   ]
  },
  {
   "cell_type": "markdown",
   "metadata": {},
   "source": [
    "Now let's try to use this extractor to calculate the average value of 100 random quantities between 12 and 14\n",
    "and a normal distribution of errors"
   ]
  },
  {
   "cell_type": "code",
   "execution_count": 10,
   "metadata": {},
   "outputs": [],
   "source": [
    "import numpy as np\n",
    "\n",
    "magnitude = np.random.uniform(12, 14, size=100)\n",
    "error = np.random.normal(size=100)"
   ]
  },
  {
   "cell_type": "markdown",
   "metadata": {},
   "source": [
    "We can see that the average magnitude is"
   ]
  },
  {
   "cell_type": "code",
   "execution_count": 11,
   "metadata": {},
   "outputs": [
    {
     "data": {
      "text/plain": [
       "13.100839148324201"
      ]
     },
     "execution_count": 11,
     "metadata": {},
     "output_type": "execute_result"
    }
   ],
   "source": [
    "np.average(magnitude)"
   ]
  },
  {
   "cell_type": "markdown",
   "metadata": {},
   "source": [
    "And using the error as weight is"
   ]
  },
  {
   "cell_type": "code",
   "execution_count": 12,
   "metadata": {},
   "outputs": [
    {
     "data": {
      "text/plain": [
       "13.132964316832446"
      ]
     },
     "execution_count": 12,
     "metadata": {},
     "output_type": "execute_result"
    }
   ],
   "source": [
    "np.average(magnitude, weights=error)"
   ]
  },
  {
   "cell_type": "markdown",
   "metadata": {},
   "source": [
    "Now we create the `FeatureSpace` only with the extractor of interest"
   ]
  },
  {
   "cell_type": "code",
   "execution_count": 13,
   "metadata": {},
   "outputs": [],
   "source": [
    "fs = feets.FeatureSpace(only=[\"weighted_mean\"])"
   ]
  },
  {
   "cell_type": "markdown",
   "metadata": {},
   "source": [
    "And we can verify the difference of providing the error"
   ]
  },
  {
   "cell_type": "code",
   "execution_count": 14,
   "metadata": {},
   "outputs": [
    {
     "data": {
      "text/plain": [
       "{'weighted_mean': 13.132964316832446}"
      ]
     },
     "execution_count": 14,
     "metadata": {},
     "output_type": "execute_result"
    }
   ],
   "source": [
    "fs.extract(magnitude=magnitude, error=error).as_dict()"
   ]
  },
  {
   "cell_type": "markdown",
   "metadata": {},
   "source": [
    "Or use only the magnitude"
   ]
  },
  {
   "cell_type": "code",
   "execution_count": 15,
   "metadata": {},
   "outputs": [
    {
     "data": {
      "text/plain": [
       "{'weighted_mean': 13.100839148324201}"
      ]
     },
     "execution_count": 15,
     "metadata": {},
     "output_type": "execute_result"
    }
   ],
   "source": [
    "fs.extract(magnitude=magnitude).as_dict()"
   ]
  },
  {
   "cell_type": "markdown",
   "metadata": {},
   "source": [
    "## Example 3: `RobustMean` extractor - Configuration parameters\n",
    "\n",
    "Let's assume that we want to make an extractor that calculates an average over the magnitudes but in this case, omit the extreme values. For example, remove all values of the upper and lower $ 5 \\% $ from the quantities. For that, we can use the numpy `percentile` function"
   ]
  },
  {
   "cell_type": "code",
   "execution_count": 16,
   "metadata": {},
   "outputs": [
    {
     "data": {
      "text/plain": [
       "__main__.RobustMean"
      ]
     },
     "execution_count": 16,
     "metadata": {},
     "output_type": "execute_result"
    }
   ],
   "source": [
    "class RobustMean(feets.Extractor):\n",
    "    data = [\"magnitude\"]\n",
    "    features = [\"robust_mean\"]\n",
    "    \n",
    "    def fit(self, magnitude):\n",
    "        # extract the percentiles\n",
    "        llimit, ulimit = np.percentile(magnitude, (5, 95))\n",
    "        \n",
    "        # remove the two limits\n",
    "        crop = magnitude[\n",
    "            (magnitude > llimit) & (magnitude < ulimit)]\n",
    "        \n",
    "        # calculate the mean\n",
    "        robust_mean = np.mean(crop)\n",
    "        \n",
    "        return{\"robust_mean\": robust_mean}\n",
    "    \n",
    "feets.register_extractor(RobustMean)"
   ]
  },
  {
   "cell_type": "markdown",
   "metadata": {},
   "source": [
    "now we can create the `FeatureSpace` instance"
   ]
  },
  {
   "cell_type": "code",
   "execution_count": 17,
   "metadata": {},
   "outputs": [
    {
     "data": {
      "text/plain": [
       "<FeatureSpace: RobustMean()>"
      ]
     },
     "execution_count": 17,
     "metadata": {},
     "output_type": "execute_result"
    }
   ],
   "source": [
    "fs = feets.FeatureSpace(only=[\"robust_mean\"])\n",
    "fs"
   ]
  },
  {
   "cell_type": "markdown",
   "metadata": {},
   "source": [
    "And finally, we can extract `robust_mean` from a random uniform magnitudes."
   ]
  },
  {
   "cell_type": "code",
   "execution_count": 18,
   "metadata": {},
   "outputs": [
    {
     "data": {
      "text/plain": [
       "12.958129090838725"
      ]
     },
     "execution_count": 18,
     "metadata": {},
     "output_type": "execute_result"
    }
   ],
   "source": [
    "magnitude = np.random.uniform(12, 14, size=100)\n",
    "fs.extract(magnitude=magnitude)[\"robust_mean\"]"
   ]
  },
  {
   "cell_type": "markdown",
   "metadata": {},
   "source": [
    "Now let's assume that we want a configurable extractor that allows the user to determine which percentiles to remove before calculating the average. This is possible thanks to the `params` attribute.\n",
    "\n",
    "`params` must be a dict that has the name of the parameter as a key, and its default value. All the keys of the\n",
    "dict `params` are sent as parameters to the` fit () `method in conjunction with the required time-series data.\n",
    "\n",
    "Now if we want to write the same `RobustMean` but with a configurable parameter instead of leaving the $ 5 \\% $ fixed, we can do it as follows."
   ]
  },
  {
   "cell_type": "code",
   "execution_count": 19,
   "metadata": {},
   "outputs": [
    {
     "data": {
      "text/plain": [
       "__main__.RobustMean"
      ]
     },
     "execution_count": 19,
     "metadata": {},
     "output_type": "execute_result"
    }
   ],
   "source": [
    "class RobustMean(feets.Extractor):\n",
    "    data = [\"magnitude\"]\n",
    "    features = [\"robust_mean\"]\n",
    "        \n",
    "    # by default the percentile to crop is still 5.\n",
    "    params = {\"percentile\": 5}\n",
    "    \n",
    "    # now magnitude (from data), and percentile (from params)\n",
    "    # are are given as keyword argument.\n",
    "    def fit(self, magnitude, percentile):\n",
    "        # first calculate the lower and upper percentile\n",
    "        lp, up = percentile, 100 - percentile\n",
    "        \n",
    "        # extract the percentiles\n",
    "        llimit, ulimit = np.percentile(magnitude, (lp, up))\n",
    "        \n",
    "        # remove the two limits\n",
    "        crop = magnitude[\n",
    "            (magnitude > llimit) & (magnitude < ulimit)]\n",
    "        \n",
    "        # calculate the mean\n",
    "        robust_mean = np.mean(crop)\n",
    "        \n",
    "        return{\"robust_mean\": robust_mean}\n",
    "    \n",
    "feets.register_extractor(RobustMean)"
   ]
  },
  {
   "cell_type": "markdown",
   "metadata": {},
   "source": [
    "The parameter `percentile` of our extractor, is configurable, at the time of\n",
    "create our `FeatureSpace`.\n",
    "\n",
    "The way to change the value is to provide the class name as a keyword argument, and all the `params` that you want to change\n",
    "Like a dictionary"
   ]
  },
  {
   "cell_type": "code",
   "execution_count": 20,
   "metadata": {},
   "outputs": [
    {
     "data": {
      "text/plain": [
       "<FeatureSpace: RobustMean(percentile=6)>"
      ]
     },
     "execution_count": 20,
     "metadata": {},
     "output_type": "execute_result"
    }
   ],
   "source": [
    "fs = feets.FeatureSpace(only=[\"robust_mean\"], RobustMean={\"percentile\": 6})\n",
    "fs"
   ]
  },
  {
   "cell_type": "code",
   "execution_count": 21,
   "metadata": {},
   "outputs": [
    {
     "data": {
      "text/plain": [
       "{'robust_mean': 12.957153715793863}"
      ]
     },
     "execution_count": 21,
     "metadata": {},
     "output_type": "execute_result"
    }
   ],
   "source": [
    "fs.extract(magnitude=magnitude).as_dict()"
   ]
  },
  {
   "cell_type": "markdown",
   "metadata": {},
   "source": [
    "## Example 4: `MagErrHistogram` extractor - Flatten API\n",
    "\n",
    "The features generated by the extractors can be any arbitrary Python object. \n",
    "\n",
    "For example the following extractor binarizes the values of `magnitude` and` error` in a 2D histogram, and returns them in the form of a 2-dimensional array:"
   ]
  },
  {
   "cell_type": "code",
   "execution_count": 22,
   "metadata": {},
   "outputs": [],
   "source": [
    "@feets.register_extractor\n",
    "class MagErrHistogram(feets.Extractor):\n",
    "    data = [\"magnitude\", \"error\"]\n",
    "    features = [\"Mag_Err_Histogram\"]\n",
    "    \n",
    "    def fit(self, magnitude, error):\n",
    "        histogram2d = np.histogram2d(magnitude, error)[0]\n",
    "        return {\"Mag_Err_Histogram\": histogram2d}"
   ]
  },
  {
   "cell_type": "code",
   "execution_count": 23,
   "metadata": {},
   "outputs": [],
   "source": [
    "fs = feets.FeatureSpace(only=[\"Mag_Err_Histogram\"])"
   ]
  },
  {
   "cell_type": "code",
   "execution_count": 24,
   "metadata": {},
   "outputs": [
    {
     "data": {
      "text/plain": [
       "{'Mag_Err_Histogram': array([[0., 0., 1., 1., 1., 0., 1., 0., 6., 1.],\n",
       "        [0., 0., 1., 1., 2., 2., 2., 1., 2., 1.],\n",
       "        [0., 2., 0., 0., 3., 2., 1., 1., 1., 0.],\n",
       "        [0., 1., 1., 1., 1., 1., 1., 3., 1., 0.],\n",
       "        [1., 0., 1., 0., 2., 2., 1., 3., 0., 0.],\n",
       "        [0., 1., 0., 1., 1., 4., 1., 0., 0., 0.],\n",
       "        [0., 0., 1., 0., 2., 2., 1., 1., 2., 3.],\n",
       "        [2., 1., 1., 2., 1., 1., 1., 2., 1., 0.],\n",
       "        [0., 0., 0., 0., 0., 2., 0., 1., 1., 2.],\n",
       "        [0., 0., 1., 4., 2., 1., 1., 0., 0., 0.]])}"
      ]
     },
     "execution_count": 24,
     "metadata": {},
     "output_type": "execute_result"
    }
   ],
   "source": [
    "magnitude = np.random.uniform(12, 14, size=100)\n",
    "error = np.random.normal(size=100)\n",
    "rs = fs.extract(magnitude=magnitude, error=error)\n",
    "rs.as_dict()"
   ]
  },
  {
   "cell_type": "markdown",
   "metadata": {},
   "source": [
    "The interesting thing is that if we call the method `as_arrays()` or `as_dataframe()` each one of the values the matrix is split into independent elements."
   ]
  },
  {
   "cell_type": "code",
   "execution_count": 25,
   "metadata": {},
   "outputs": [
    {
     "data": {
      "text/html": [
       "<div>\n",
       "<style scoped>\n",
       "    .dataframe tbody tr th:only-of-type {\n",
       "        vertical-align: middle;\n",
       "    }\n",
       "\n",
       "    .dataframe tbody tr th {\n",
       "        vertical-align: top;\n",
       "    }\n",
       "\n",
       "    .dataframe thead th {\n",
       "        text-align: right;\n",
       "    }\n",
       "</style>\n",
       "<table border=\"1\" class=\"dataframe\">\n",
       "  <thead>\n",
       "    <tr style=\"text-align: right;\">\n",
       "      <th></th>\n",
       "      <th>Mag_Err_Histogram_0_0</th>\n",
       "      <th>Mag_Err_Histogram_0_1</th>\n",
       "      <th>Mag_Err_Histogram_0_2</th>\n",
       "      <th>Mag_Err_Histogram_0_3</th>\n",
       "      <th>Mag_Err_Histogram_0_4</th>\n",
       "      <th>Mag_Err_Histogram_0_5</th>\n",
       "      <th>Mag_Err_Histogram_0_6</th>\n",
       "      <th>Mag_Err_Histogram_0_7</th>\n",
       "      <th>Mag_Err_Histogram_0_8</th>\n",
       "      <th>Mag_Err_Histogram_0_9</th>\n",
       "      <th>...</th>\n",
       "      <th>Mag_Err_Histogram_9_0</th>\n",
       "      <th>Mag_Err_Histogram_9_1</th>\n",
       "      <th>Mag_Err_Histogram_9_2</th>\n",
       "      <th>Mag_Err_Histogram_9_3</th>\n",
       "      <th>Mag_Err_Histogram_9_4</th>\n",
       "      <th>Mag_Err_Histogram_9_5</th>\n",
       "      <th>Mag_Err_Histogram_9_6</th>\n",
       "      <th>Mag_Err_Histogram_9_7</th>\n",
       "      <th>Mag_Err_Histogram_9_8</th>\n",
       "      <th>Mag_Err_Histogram_9_9</th>\n",
       "    </tr>\n",
       "  </thead>\n",
       "  <tbody>\n",
       "    <tr>\n",
       "      <th>0</th>\n",
       "      <td>0.0</td>\n",
       "      <td>0.0</td>\n",
       "      <td>1.0</td>\n",
       "      <td>1.0</td>\n",
       "      <td>1.0</td>\n",
       "      <td>0.0</td>\n",
       "      <td>1.0</td>\n",
       "      <td>0.0</td>\n",
       "      <td>6.0</td>\n",
       "      <td>1.0</td>\n",
       "      <td>...</td>\n",
       "      <td>0.0</td>\n",
       "      <td>0.0</td>\n",
       "      <td>1.0</td>\n",
       "      <td>4.0</td>\n",
       "      <td>2.0</td>\n",
       "      <td>1.0</td>\n",
       "      <td>1.0</td>\n",
       "      <td>0.0</td>\n",
       "      <td>0.0</td>\n",
       "      <td>0.0</td>\n",
       "    </tr>\n",
       "  </tbody>\n",
       "</table>\n",
       "<p>1 rows × 100 columns</p>\n",
       "</div>"
      ],
      "text/plain": [
       "   Mag_Err_Histogram_0_0  Mag_Err_Histogram_0_1  Mag_Err_Histogram_0_2  \\\n",
       "0                    0.0                    0.0                    1.0   \n",
       "\n",
       "   Mag_Err_Histogram_0_3  Mag_Err_Histogram_0_4  Mag_Err_Histogram_0_5  \\\n",
       "0                    1.0                    1.0                    0.0   \n",
       "\n",
       "   Mag_Err_Histogram_0_6  Mag_Err_Histogram_0_7  Mag_Err_Histogram_0_8  \\\n",
       "0                    1.0                    0.0                    6.0   \n",
       "\n",
       "   Mag_Err_Histogram_0_9  ...  Mag_Err_Histogram_9_0  Mag_Err_Histogram_9_1  \\\n",
       "0                    1.0  ...                    0.0                    0.0   \n",
       "\n",
       "   Mag_Err_Histogram_9_2  Mag_Err_Histogram_9_3  Mag_Err_Histogram_9_4  \\\n",
       "0                    1.0                    4.0                    2.0   \n",
       "\n",
       "   Mag_Err_Histogram_9_5  Mag_Err_Histogram_9_6  Mag_Err_Histogram_9_7  \\\n",
       "0                    1.0                    1.0                    0.0   \n",
       "\n",
       "   Mag_Err_Histogram_9_8  Mag_Err_Histogram_9_9  \n",
       "0                    0.0                    0.0  \n",
       "\n",
       "[1 rows x 100 columns]"
      ]
     },
     "execution_count": 25,
     "metadata": {},
     "output_type": "execute_result"
    }
   ],
   "source": [
    "rs.as_dataframe()"
   ]
  },
  {
   "cell_type": "markdown",
   "metadata": {},
   "source": [
    "The conversion of a 2D matrix to scalars is executed in the `flatten_feature ()` method of the extractor; whose default behavior works for arrays of an arbitrary dimension by adding suffixes for each dimension.\n",
    "\n",
    "Thus the value of the matrix `Mag_Err_Histogram[i][j]` becomes a feature `Mag_Err_Histogram_i_j` (if there were more dimensions only more sub-indices are added). If it's needed a custom behavior can be provided.\n",
    "\n",
    "For example, if we wanted to return only an average value of the histogram; We could redefine this method as follows:"
   ]
  },
  {
   "cell_type": "code",
   "execution_count": 26,
   "metadata": {},
   "outputs": [],
   "source": [
    "@feets.register_extractor\n",
    "class MagErrHistogram(feets.Extractor):\n",
    "    data = [\"magnitude\", \"error\"]\n",
    "    features = [\"Mag_Err_Histogram\"]\n",
    "    \n",
    "    def flatten_feature(self, feature, value, extractor_features, **kwargs):\n",
    "        return {\"Mag_Err_Histogram\": np.mean(value)}\n",
    "    \n",
    "    def fit(self, magnitude, error):\n",
    "        histogram2d = np.histogram2d(magnitude, error)[0]\n",
    "        return {\"Mag_Err_Histogram\": histogram2d}"
   ]
  },
  {
   "cell_type": "code",
   "execution_count": 27,
   "metadata": {},
   "outputs": [
    {
     "data": {
      "text/html": [
       "<div>\n",
       "<style scoped>\n",
       "    .dataframe tbody tr th:only-of-type {\n",
       "        vertical-align: middle;\n",
       "    }\n",
       "\n",
       "    .dataframe tbody tr th {\n",
       "        vertical-align: top;\n",
       "    }\n",
       "\n",
       "    .dataframe thead th {\n",
       "        text-align: right;\n",
       "    }\n",
       "</style>\n",
       "<table border=\"1\" class=\"dataframe\">\n",
       "  <thead>\n",
       "    <tr style=\"text-align: right;\">\n",
       "      <th></th>\n",
       "      <th>Mag_Err_Histogram</th>\n",
       "    </tr>\n",
       "  </thead>\n",
       "  <tbody>\n",
       "    <tr>\n",
       "      <th>0</th>\n",
       "      <td>1.0</td>\n",
       "    </tr>\n",
       "  </tbody>\n",
       "</table>\n",
       "</div>"
      ],
      "text/plain": [
       "   Mag_Err_Histogram\n",
       "0                1.0"
      ]
     },
     "execution_count": 27,
     "metadata": {},
     "output_type": "execute_result"
    }
   ],
   "source": [
    "fs = feets.FeatureSpace(only=[\"Mag_Err_Histogram\"])\n",
    "rs = fs.extract(magnitude=magnitude, error=error)\n",
    "rs.as_dataframe()"
   ]
  },
  {
   "cell_type": "markdown",
   "metadata": {},
   "source": [
    "The `flatten_feature` method receives several parameters:\n",
    "    \n",
    "- `feature`: the name of the feature you are trying to flatten. It is useful if the extractor generates several features and we want to provide a different logic for each one.\n",
    "- `value`: the value of the feature to flatten as it was generated.\n",
    "- `extractor_features`: All the features generated by this extractor. It is useful if the flattening logic depends on the values of other features.\n",
    "- `**kwargs`: All parameters received by the `fit()` method. This is all time-serie plus all configurable params. It is useful if the flattening logic depends on the values of the time series or the configuration of the extractor."
   ]
  },
  {
   "cell_type": "markdown",
   "metadata": {},
   "source": [
    "## Example 5: Plots"
   ]
  },
  {
   "cell_type": "markdown",
   "metadata": {},
   "source": [
    "One of the feets strengths is the ability to explore the features. \n",
    "\n",
    "In addition to converting `FeatureSet` to something like the [Pandas DataFrames](https://pandas.pydata.org/); feets offers the possibility of generating plots for each feature.\n",
    "\n",
    "For example, if we extract the features of a random light curve"
   ]
  },
  {
   "cell_type": "code",
   "execution_count": 28,
   "metadata": {},
   "outputs": [],
   "source": [
    "time = np.arange(100) + np.random.normal(size=100, loc=10)\n",
    "magnitude = np.random.uniform(12, 14, size=100)\n",
    "error = np.random.normal(size=100)\n",
    "\n",
    "fs = feets.FeatureSpace(data=[\"magnitude\", \"time\", \"error\"])\n",
    "rs = fs.extract(time=time, magnitude=magnitude, error=error)"
   ]
  },
  {
   "cell_type": "markdown",
   "metadata": {},
   "source": [
    "We can plot the `SignaturePhMag` with the next command."
   ]
  },
  {
   "cell_type": "code",
   "execution_count": 29,
   "metadata": {},
   "outputs": [
    {
     "data": {
      "image/png": "[encoded data removed]",
      "text/plain": [
       "<Figure size 648x324.72 with 2 Axes>"
      ]
     },
     "metadata": {
      "needs_background": "light"
     },
     "output_type": "display_data"
    }
   ],
   "source": [
    "rs.plot(\"SignaturePhMag\");"
   ]
  },
  {
   "cell_type": "markdown",
   "metadata": {},
   "source": [
    "But not only that, but we also provide full integration with [Matplotlib](https://matplotlib.org/):\n",
    "\n",
    "- We can, for example, provide the axis to plot (`ax`).\n",
    "- Or change the color palette (`cmap`).\n",
    "\n",
    "In this case, any extra parameters that we give to the plot method for the `SignaturePhMag` feature will be sent to the function.\n",
    "[seaborn.heatmap](https://seaborn.pydata.org/generated/seaborn.heatmap.html)."
   ]
  },
  {
   "cell_type": "code",
   "execution_count": 30,
   "metadata": {},
   "outputs": [
    {
     "data": {
      "image/png": "[encoded data removed]",
      "text/plain": [
       "<Figure size 360x360 with 2 Axes>"
      ]
     },
     "metadata": {
      "needs_background": "light"
     },
     "output_type": "display_data"
    }
   ],
   "source": [
    "fig, ax = plt.subplots(figsize=(5, 5))\n",
    "rs.plot(\"SignaturePhMag\", ax=ax, cmap=\"viridis_r\");"
   ]
  },
  {
   "cell_type": "markdown",
   "metadata": {},
   "source": [
    "The catch is, by default all the extractors can't plot their features.\n",
    "\n",
    "Let's try to plot the feature from the first example `magmax` or `mintime`"
   ]
  },
  {
   "cell_type": "code",
   "execution_count": 31,
   "metadata": {},
   "outputs": [
    {
     "ename": "PlotFeatureNotImplementedError",
     "evalue": "magmax",
     "output_type": "error",
     "traceback": [
      "\u001b[0;31m---------------------------------------------------------------------------\u001b[0m",
      "\u001b[0;31mPlotFeatureNotImplementedError\u001b[0m            Traceback (most recent call last)",
      "\u001b[0;32m<ipython-input-31-cb7d6b1f03b1>\u001b[0m in \u001b[0;36m<module>\u001b[0;34m\u001b[0m\n\u001b[0;32m----> 1\u001b[0;31m \u001b[0mrs\u001b[0m\u001b[0;34m.\u001b[0m\u001b[0mplot\u001b[0m\u001b[0;34m(\u001b[0m\u001b[0;34m\"magmax\"\u001b[0m\u001b[0;34m)\u001b[0m\u001b[0;34m\u001b[0m\u001b[0;34m\u001b[0m\u001b[0m\n\u001b[0m",
      "\u001b[0;32m~/proyectos/feets/src/feets/core.py\u001b[0m in \u001b[0;36mplot\u001b[0;34m(self, feature, ax, **plot_kws)\u001b[0m\n\u001b[1;32m    189\u001b[0m                 \u001b[0mfeature\u001b[0m\u001b[0;34m=\u001b[0m\u001b[0mfeature\u001b[0m\u001b[0;34m,\u001b[0m \u001b[0mvalue\u001b[0m\u001b[0;34m=\u001b[0m\u001b[0mvalue\u001b[0m\u001b[0;34m,\u001b[0m \u001b[0max\u001b[0m\u001b[0;34m=\u001b[0m\u001b[0max\u001b[0m\u001b[0;34m,\u001b[0m\u001b[0;34m\u001b[0m\u001b[0;34m\u001b[0m\u001b[0m\n\u001b[1;32m    190\u001b[0m                 \u001b[0mplot_kws\u001b[0m\u001b[0;34m=\u001b[0m\u001b[0mplot_kws\u001b[0m\u001b[0;34m,\u001b[0m \u001b[0mfeatures\u001b[0m\u001b[0;34m=\u001b[0m\u001b[0mall_features\u001b[0m\u001b[0;34m,\u001b[0m\u001b[0;34m\u001b[0m\u001b[0;34m\u001b[0m\u001b[0m\n\u001b[0;32m--> 191\u001b[0;31m                 **self.timeserie)\n\u001b[0m\u001b[1;32m    192\u001b[0m         \u001b[0;32mexcept\u001b[0m \u001b[0mextractors\u001b[0m\u001b[0;34m.\u001b[0m\u001b[0mPlotFeatureNotImplementedError\u001b[0m\u001b[0;34m:\u001b[0m\u001b[0;34m\u001b[0m\u001b[0;34m\u001b[0m\u001b[0m\n\u001b[1;32m    193\u001b[0m             \u001b[0max\u001b[0m\u001b[0;34m.\u001b[0m\u001b[0mremove\u001b[0m\u001b[0;34m(\u001b[0m\u001b[0;34m)\u001b[0m\u001b[0;34m\u001b[0m\u001b[0;34m\u001b[0m\u001b[0m\n",
      "\u001b[0;32m~/proyectos/feets/src/feets/extractors/core.py\u001b[0m in \u001b[0;36mplot\u001b[0;34m(self, feature, value, ax, plot_kws, **kwargs)\u001b[0m\n\u001b[1;32m    440\u001b[0m             \u001b[0mfeature\u001b[0m\u001b[0;34m=\u001b[0m\u001b[0mfeature\u001b[0m\u001b[0;34m,\u001b[0m \u001b[0mvalue\u001b[0m\u001b[0;34m=\u001b[0m\u001b[0mvalue\u001b[0m\u001b[0;34m,\u001b[0m\u001b[0;34m\u001b[0m\u001b[0;34m\u001b[0m\u001b[0m\n\u001b[1;32m    441\u001b[0m             \u001b[0mextractor_features\u001b[0m\u001b[0;34m=\u001b[0m\u001b[0mefeatures\u001b[0m\u001b[0;34m,\u001b[0m\u001b[0;34m\u001b[0m\u001b[0;34m\u001b[0m\u001b[0m\n\u001b[0;32m--> 442\u001b[0;31m             ax=ax, plot_kws=plot_kws, **method_kwargs)\n\u001b[0m\u001b[1;32m    443\u001b[0m \u001b[0;34m\u001b[0m\u001b[0m\n\u001b[1;32m    444\u001b[0m         \u001b[0;32mreturn\u001b[0m \u001b[0max\u001b[0m\u001b[0;34m\u001b[0m\u001b[0;34m\u001b[0m\u001b[0m\n",
      "\u001b[0;32m~/proyectos/feets/src/feets/extractors/core.py\u001b[0m in \u001b[0;36mplot_feature\u001b[0;34m(self, feature, **kwargs)\u001b[0m\n\u001b[1;32m    418\u001b[0m \u001b[0;34m\u001b[0m\u001b[0m\n\u001b[1;32m    419\u001b[0m     \u001b[0;32mdef\u001b[0m \u001b[0mplot_feature\u001b[0m\u001b[0;34m(\u001b[0m\u001b[0mself\u001b[0m\u001b[0;34m,\u001b[0m \u001b[0mfeature\u001b[0m\u001b[0;34m,\u001b[0m \u001b[0;34m**\u001b[0m\u001b[0mkwargs\u001b[0m\u001b[0;34m)\u001b[0m\u001b[0;34m:\u001b[0m\u001b[0;34m\u001b[0m\u001b[0;34m\u001b[0m\u001b[0m\n\u001b[0;32m--> 420\u001b[0;31m         \u001b[0;32mraise\u001b[0m \u001b[0mPlotFeatureNotImplementedError\u001b[0m\u001b[0;34m(\u001b[0m\u001b[0mfeature\u001b[0m\u001b[0;34m)\u001b[0m\u001b[0;34m\u001b[0m\u001b[0;34m\u001b[0m\u001b[0m\n\u001b[0m\u001b[1;32m    421\u001b[0m \u001b[0;34m\u001b[0m\u001b[0m\n\u001b[1;32m    422\u001b[0m     \u001b[0;32mdef\u001b[0m \u001b[0mplot\u001b[0m\u001b[0;34m(\u001b[0m\u001b[0mself\u001b[0m\u001b[0;34m,\u001b[0m \u001b[0mfeature\u001b[0m\u001b[0;34m,\u001b[0m \u001b[0mvalue\u001b[0m\u001b[0;34m,\u001b[0m \u001b[0max\u001b[0m\u001b[0;34m,\u001b[0m \u001b[0mplot_kws\u001b[0m\u001b[0;34m,\u001b[0m \u001b[0;34m**\u001b[0m\u001b[0mkwargs\u001b[0m\u001b[0;34m)\u001b[0m\u001b[0;34m:\u001b[0m\u001b[0;34m\u001b[0m\u001b[0;34m\u001b[0m\u001b[0m\n",
      "\u001b[0;31mPlotFeatureNotImplementedError\u001b[0m: magmax"
     ]
    },
    {
     "data": {
      "text/plain": [
       "<Figure size 648x324.72 with 0 Axes>"
      ]
     },
     "metadata": {},
     "output_type": "display_data"
    }
   ],
   "source": [
    "rs.plot(\"magmax\")"
   ]
  },
  {
   "cell_type": "code",
   "execution_count": null,
   "metadata": {},
   "outputs": [],
   "source": []
  },
  {
   "cell_type": "code",
   "execution_count": null,
   "metadata": {},
   "outputs": [],
   "source": []
  }
 ],
 "metadata": {
  "celltoolbar": "Edit Metadata",
  "kernelspec": {
   "display_name": "Python 3",
   "language": "python",
   "name": "python3"
  },
  "language_info": {
   "codemirror_mode": {
    "name": "ipython",
    "version": 3
   },
   "file_extension": ".py",
   "mimetype": "text/x-python",
   "name": "python",
   "nbconvert_exporter": "python",
   "pygments_lexer": "ipython3",
   "version": "3.7.5"
  }
 },
 "nbformat": 4,
 "nbformat_minor": 4
}
