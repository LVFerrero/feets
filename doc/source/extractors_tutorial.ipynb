{
 "cells": [
  {
   "cell_type": "code",
   "execution_count": 1,
   "metadata": {
    "nbsphinx": "hidden"
   },
   "outputs": [],
   "source": [
    "import warnings\n",
    "\n",
    "%matplotlib inline\n",
    "import matplotlib.pyplot as plt\n",
    "\n",
    "import numpy as np\n",
    "np.random.seed(24)\n",
    "\n",
    "import seaborn as sns\n",
    "sns.set()\n",
    "\n",
    "plt.rcParams[\"figure.figsize\"] = 9, 4.51\n",
    "\n",
    "import expectexception\n",
    "\n",
    "import feets\n",
    "\n",
    "warnings.simplefilter(\"ignore\", feets.extractors.ExtractorWarning)"
   ]
  },
  {
   "cell_type": "markdown",
   "metadata": {},
   "source": [
    "# Extractors Tutorial\n",
    "\n",
    "## Introduction\n",
    "\n",
    "This tutorial is a guide of how you can create your custom feature extraction routine\n",
    "and add this extractor to feets.\n",
    "\n",
    "## Fundamentals\n",
    "\n",
    "- The feature extraction as modeled as a class.\n",
    "- The class must inerith from `feets.Extractor`\n",
    "- The extractor class must has at least three elements\n",
    "    1. **data**: list with at least one valid feets data \n",
    "       (*time*, *magnitude*, *error*, *magnitude2*, *aligned_time*, *aligned_magnitude*, *aligned_magnitude2*, \n",
    "       *aligned_error* or *aligned_error2*)\n",
    "    2. **features**: list with the name of the features that this extractor generates.\n",
    "    3. **fit**: a method with the same parameters defined in the `data` list. `fit()` must return\n",
    "       a dictionary with keys equals to the `features` list.\n",
    "\n",
    "## Example 1: `MaxMagMinTime` extractor\n",
    "\n",
    "Let's say we need to create a feature extractor called **MaxMagMinTime** that must return 2 features:\n",
    "\n",
    "1. **magmax**: The maximun magnitude \n",
    "2. **mintime**: the minimun time"
   ]
  },
  {
   "cell_type": "code",
   "execution_count": 2,
   "metadata": {},
   "outputs": [],
   "source": [
    "import feets\n",
    "\n",
    "class MaxMagMinTime(feets.Extractor):  # must inherit from Extractor\n",
    "\n",
    "    data = ['magnitude', 'time']  # Which data is needed \n",
    "                                  # to calculate this feature\n",
    "    \n",
    "    features = [\"magmax\", \"mintime\"] # The names of the expected \n",
    "                                     # feature\n",
    "    \n",
    "    # The values of data are the params\n",
    "    def fit(self, magnitude, time):        \n",
    "        # The return value must be a dict with the same values \n",
    "        # defined in  features\n",
    "        return {\"magmax\": magnitude.max(), \"mintime\": time.min()}  "
   ]
  },
  {
   "cell_type": "markdown",
   "metadata": {},
   "source": [
    "Finally to make the extractor available for the `FeaturSpace` class, you need to register it with the command:"
   ]
  },
  {
   "cell_type": "code",
   "execution_count": 3,
   "metadata": {},
   "outputs": [
    {
     "data": {
      "text/plain": [
       "__main__.MaxMagMinTime"
      ]
     },
     "execution_count": 3,
     "metadata": {},
     "output_type": "execute_result"
    }
   ],
   "source": [
    "feets.register_extractor(MaxMagMinTime)"
   ]
  },
  {
   "cell_type": "markdown",
   "metadata": {},
   "source": [
    "Now the extractor are available as any other provided in feets:"
   ]
  },
  {
   "cell_type": "code",
   "execution_count": 4,
   "metadata": {},
   "outputs": [
    {
     "data": {
      "text/plain": [
       "<FeatureSpace: MaxMagMinTime()>"
      ]
     },
     "execution_count": 4,
     "metadata": {},
     "output_type": "execute_result"
    }
   ],
   "source": [
    "# let's create the feature-space\n",
    "fs = feets.FeatureSpace(only=[\"magmax\", \"mintime\"])\n",
    "fs"
   ]
  },
  {
   "cell_type": "code",
   "execution_count": 5,
   "metadata": {},
   "outputs": [
    {
     "data": {
      "text/plain": [
       "FeatureSet(features=<magmax, mintime>, timeserie=<time, magnitude>)"
      ]
     },
     "execution_count": 5,
     "metadata": {},
     "output_type": "execute_result"
    }
   ],
   "source": [
    "# extract the features\n",
    "fs.extract(time=[1,2,3], magnitude=[100, 200, 300])"
   ]
  },
  {
   "cell_type": "markdown",
   "metadata": {},
   "source": [
    "## Example 2: `WeightedMean` extractor - Optional data.\n",
    "\n",
    "Any extractor can set some parameters of the light curves as optional. For this, the `Extractors` provide the `optional` attribute which is a list that any component defined in `data` can have.\n",
    "\n",
    "For example, if we wanted to make the `WeightedMean` extractor which calculates the average of the magnitudes optionally weighted by the error:"
   ]
  },
  {
   "cell_type": "code",
   "execution_count": 6,
   "metadata": {},
   "outputs": [],
   "source": [
    "class WeightedMean(feets.Extractor):\n",
    "\n",
    "    data = ['magnitude', 'error']\n",
    "    optional = ['error']\n",
    "    \n",
    "    features = [\"weighted_mean\"] \n",
    "    \n",
    "    # if error is not provided to the FeatureSpace,\n",
    "    # the value of erro will be None.\n",
    "    def fit(self, magnitude, error):\n",
    "        if error is None:\n",
    "            weighted_mean = np.average(magnitude) \n",
    "        else:\n",
    "            weighted_mean = np.average(magnitude, weights=error)\n",
    "        return {\"weighted_mean\": weighted_mean}  "
   ]
  },
  {
   "cell_type": "code",
   "execution_count": 7,
   "metadata": {},
   "outputs": [
    {
     "data": {
      "text/plain": [
       "__main__.WeightedMean"
      ]
     },
     "execution_count": 7,
     "metadata": {},
     "output_type": "execute_result"
    }
   ],
   "source": [
    "feets.register_extractor(WeightedMean)"
   ]
  },
  {
   "cell_type": "markdown",
   "metadata": {},
   "source": [
    "The interesting thing about this extractor is that it is selected by the `FeatureSpace` regardless of whether we request for the error or not (In both cases the new extractor will be at the end of the set):"
   ]
  },
  {
   "cell_type": "code",
   "execution_count": 8,
   "metadata": {},
   "outputs": [
    {
     "data": {
      "text/plain": [
       "frozenset({Amplitude(),\n",
       "           AndersonDarling(),\n",
       "           AutocorLength(nlags=100),\n",
       "           Beyond1Std(),\n",
       "           Con(consecutiveStar=3),\n",
       "           FluxPercentileRatioMid20(),\n",
       "           FluxPercentileRatioMid35(),\n",
       "           FluxPercentileRatioMid50(),\n",
       "           FluxPercentileRatioMid65(),\n",
       "           FluxPercentileRatioMid80(),\n",
       "           Gskew(interpolation=nearest),\n",
       "           Mean(),\n",
       "           MeanVariance(),\n",
       "           MedianAbsDev(),\n",
       "           MedianBRP(),\n",
       "           PairSlopeTrend(),\n",
       "           PercentAmplitude(),\n",
       "           PercentDifferenceFluxPercentile(),\n",
       "           Q31(),\n",
       "           RCS(),\n",
       "           Skew(),\n",
       "           SmallKurtosis(),\n",
       "           Std(),\n",
       "           StetsonK(),\n",
       "           WeightedMean()})"
      ]
     },
     "execution_count": 8,
     "metadata": {},
     "output_type": "execute_result"
    }
   ],
   "source": [
    "fs = feets.FeatureSpace(data=[\"magnitude\", \"error\"])\n",
    "fs.features_extractors_"
   ]
  },
  {
   "cell_type": "code",
   "execution_count": 9,
   "metadata": {},
   "outputs": [
    {
     "data": {
      "text/plain": [
       "frozenset({Amplitude(),\n",
       "           AndersonDarling(),\n",
       "           AutocorLength(nlags=100),\n",
       "           Con(consecutiveStar=3),\n",
       "           FluxPercentileRatioMid20(),\n",
       "           FluxPercentileRatioMid35(),\n",
       "           FluxPercentileRatioMid50(),\n",
       "           FluxPercentileRatioMid65(),\n",
       "           FluxPercentileRatioMid80(),\n",
       "           Gskew(interpolation=nearest),\n",
       "           Mean(),\n",
       "           MeanVariance(),\n",
       "           MedianAbsDev(),\n",
       "           MedianBRP(),\n",
       "           PairSlopeTrend(),\n",
       "           PercentAmplitude(),\n",
       "           PercentDifferenceFluxPercentile(),\n",
       "           Q31(),\n",
       "           RCS(),\n",
       "           Skew(),\n",
       "           SmallKurtosis(),\n",
       "           Std(),\n",
       "           WeightedMean()})"
      ]
     },
     "execution_count": 9,
     "metadata": {},
     "output_type": "execute_result"
    }
   ],
   "source": [
    "fs = feets.FeatureSpace(data=[\"magnitude\"])\n",
    "fs.features_extractors_"
   ]
  },
  {
   "cell_type": "markdown",
   "metadata": {},
   "source": [
    "Now let's try to use this extractor to calculate the average value of 100 random quantities between 12 and 14\n",
    "and a normal distribution of errors"
   ]
  },
  {
   "cell_type": "code",
   "execution_count": 10,
   "metadata": {},
   "outputs": [],
   "source": [
    "import numpy as np\n",
    "\n",
    "magnitude = np.random.uniform(12, 14, size=100)\n",
    "error = np.random.normal(size=100)"
   ]
  },
  {
   "cell_type": "markdown",
   "metadata": {},
   "source": [
    "We can see that the average magnitude is"
   ]
  },
  {
   "cell_type": "code",
   "execution_count": 11,
   "metadata": {},
   "outputs": [
    {
     "data": {
      "text/plain": [
       "13.100839148324201"
      ]
     },
     "execution_count": 11,
     "metadata": {},
     "output_type": "execute_result"
    }
   ],
   "source": [
    "np.average(magnitude)"
   ]
  },
  {
   "cell_type": "markdown",
   "metadata": {},
   "source": [
    "And using the error as weight is"
   ]
  },
  {
   "cell_type": "code",
   "execution_count": 12,
   "metadata": {},
   "outputs": [
    {
     "data": {
      "text/plain": [
       "13.132964316832446"
      ]
     },
     "execution_count": 12,
     "metadata": {},
     "output_type": "execute_result"
    }
   ],
   "source": [
    "np.average(magnitude, weights=error)"
   ]
  },
  {
   "cell_type": "markdown",
   "metadata": {},
   "source": [
    "Now we create the `FeatureSpace` only with the extractor of interest"
   ]
  },
  {
   "cell_type": "code",
   "execution_count": 13,
   "metadata": {},
   "outputs": [],
   "source": [
    "fs = feets.FeatureSpace(only=[\"weighted_mean\"])"
   ]
  },
  {
   "cell_type": "markdown",
   "metadata": {},
   "source": [
    "And we can verify the difference of providing the error"
   ]
  },
  {
   "cell_type": "code",
   "execution_count": 14,
   "metadata": {},
   "outputs": [
    {
     "data": {
      "text/plain": [
       "{'weighted_mean': 13.132964316832446}"
      ]
     },
     "execution_count": 14,
     "metadata": {},
     "output_type": "execute_result"
    }
   ],
   "source": [
    "fs.extract(magnitude=magnitude, error=error).as_dict()"
   ]
  },
  {
   "cell_type": "markdown",
   "metadata": {},
   "source": [
    "Or use only the magnitude"
   ]
  },
  {
   "cell_type": "code",
   "execution_count": 15,
   "metadata": {},
   "outputs": [
    {
     "data": {
      "text/plain": [
       "{'weighted_mean': 13.100839148324201}"
      ]
     },
     "execution_count": 15,
     "metadata": {},
     "output_type": "execute_result"
    }
   ],
   "source": [
    "fs.extract(magnitude=magnitude).as_dict()"
   ]
  },
  {
   "cell_type": "markdown",
   "metadata": {},
   "source": [
    "## Example 3: `RobustMean` extractor - Configuration parameters\n",
    "\n",
    "Let's assume that we want to make an extractor that calculates an average over the magnitudes but in this case, omit the extreme values. For example, remove all values of the upper and lower $ 5 \\% $ from the quantities. For that, we can use the numpy `percentile` function"
   ]
  },
  {
   "cell_type": "code",
   "execution_count": 16,
   "metadata": {},
   "outputs": [
    {
     "data": {
      "text/plain": [
       "__main__.RobustMean"
      ]
     },
     "execution_count": 16,
     "metadata": {},
     "output_type": "execute_result"
    }
   ],
   "source": [
    "class RobustMean(feets.Extractor):\n",
    "    data = [\"magnitude\"]\n",
    "    features = [\"robust_mean\"]\n",
    "    \n",
    "    def fit(self, magnitude):\n",
    "        # extract the percentiles\n",
    "        llimit, ulimit = np.percentile(magnitude, (5, 95))\n",
    "        \n",
    "        # remove the two limits\n",
    "        crop = magnitude[\n",
    "            (magnitude > llimit) & (magnitude < ulimit)]\n",
    "        \n",
    "        # calculate the mean\n",
    "        robust_mean = np.mean(crop)\n",
    "        \n",
    "        return{\"robust_mean\": robust_mean}\n",
    "    \n",
    "feets.register_extractor(RobustMean)"
   ]
  },
  {
   "cell_type": "markdown",
   "metadata": {},
   "source": [
    "now we can create the `FeatureSpace` instance"
   ]
  },
  {
   "cell_type": "code",
   "execution_count": 17,
   "metadata": {},
   "outputs": [
    {
     "data": {
      "text/plain": [
       "<FeatureSpace: RobustMean()>"
      ]
     },
     "execution_count": 17,
     "metadata": {},
     "output_type": "execute_result"
    }
   ],
   "source": [
    "fs = feets.FeatureSpace(only=[\"robust_mean\"])\n",
    "fs"
   ]
  },
  {
   "cell_type": "markdown",
   "metadata": {},
   "source": [
    "And finally, we can extract `robust_mean` from a random uniform magnitudes."
   ]
  },
  {
   "cell_type": "code",
   "execution_count": 18,
   "metadata": {},
   "outputs": [
    {
     "data": {
      "text/plain": [
       "12.958129090838725"
      ]
     },
     "execution_count": 18,
     "metadata": {},
     "output_type": "execute_result"
    }
   ],
   "source": [
    "magnitude = np.random.uniform(12, 14, size=100)\n",
    "fs.extract(magnitude=magnitude)[\"robust_mean\"]"
   ]
  },
  {
   "cell_type": "markdown",
   "metadata": {},
   "source": [
    "Now let's assume that we want a configurable extractor that allows the user to determine which percentiles to remove before calculating the average. This is possible thanks to the `params` attribute.\n",
    "\n",
    "`params` must be a dict that has the name of the parameter as a key, and its default value. All the keys of the\n",
    "dict `params` are sent as parameters to the` fit () `method in conjunction with the required time-series data.\n",
    "\n",
    "Now if we want to write the same `RobustMean` but with a configurable parameter instead of leaving the $ 5 \\% $ fixed, we can do it as follows."
   ]
  },
  {
   "cell_type": "code",
   "execution_count": 19,
   "metadata": {},
   "outputs": [
    {
     "data": {
      "text/plain": [
       "__main__.RobustMean"
      ]
     },
     "execution_count": 19,
     "metadata": {},
     "output_type": "execute_result"
    }
   ],
   "source": [
    "class RobustMean(feets.Extractor):\n",
    "    data = [\"magnitude\"]\n",
    "    features = [\"robust_mean\"]\n",
    "        \n",
    "    # by default the percentile to crop is still 5.\n",
    "    params = {\"percentile\": 5}\n",
    "    \n",
    "    # now magnitude (from data), and percentile (from params)\n",
    "    # are are given as keyword argument.\n",
    "    def fit(self, magnitude, percentile):\n",
    "        # first calculate the lower and upper percentile\n",
    "        lp, up = percentile, 100 - percentile\n",
    "        \n",
    "        # extract the percentiles\n",
    "        llimit, ulimit = np.percentile(magnitude, (lp, up))\n",
    "        \n",
    "        # remove the two limits\n",
    "        crop = magnitude[\n",
    "            (magnitude > llimit) & (magnitude < ulimit)]\n",
    "        \n",
    "        # calculate the mean\n",
    "        robust_mean = np.mean(crop)\n",
    "        \n",
    "        return{\"robust_mean\": robust_mean}\n",
    "    \n",
    "feets.register_extractor(RobustMean)"
   ]
  },
  {
   "cell_type": "markdown",
   "metadata": {},
   "source": [
    "The parameter `percentile` of our extractor, is configurable, at the time of\n",
    "create our `FeatureSpace`.\n",
    "\n",
    "The way to change the value is to provide the class name as a keyword argument, and all the `params` that you want to change\n",
    "Like a dictionary"
   ]
  },
  {
   "cell_type": "code",
   "execution_count": 20,
   "metadata": {},
   "outputs": [
    {
     "data": {
      "text/plain": [
       "<FeatureSpace: RobustMean(percentile=6)>"
      ]
     },
     "execution_count": 20,
     "metadata": {},
     "output_type": "execute_result"
    }
   ],
   "source": [
    "fs = feets.FeatureSpace(only=[\"robust_mean\"], RobustMean={\"percentile\": 6})\n",
    "fs"
   ]
  },
  {
   "cell_type": "code",
   "execution_count": 23,
   "metadata": {},
   "outputs": [
    {
     "data": {
      "text/plain": [
       "{'robust_mean': 12.957153715793863}"
      ]
     },
     "execution_count": 23,
     "metadata": {},
     "output_type": "execute_result"
    }
   ],
   "source": [
    "fs.extract(magnitude=magnitude).as_dict()"
   ]
  },
  {
   "cell_type": "markdown",
   "metadata": {},
   "source": [
    "## Example 4: `Histogram2D` extractor - Flatten api."
   ]
  },
  {
   "cell_type": "code",
   "execution_count": 38,
   "metadata": {},
   "outputs": [],
   "source": [
    "@feets.register_extractor\n",
    "class NormalMagnitude(feets.Extractor):\n",
    "    data = [\"magnitude\", \"error\"]\n",
    "    features = [\"histogram2d\"]\n",
    "    \n",
    "    def fit(self, magnitude, error):\n",
    "        histogram2d = np.histogram2d(magnitude, error)[0]\n",
    "        return {\"histogram2d\": histogram2d}"
   ]
  },
  {
   "cell_type": "code",
   "execution_count": 40,
   "metadata": {},
   "outputs": [
    {
     "data": {
      "text/plain": [
       "<FeatureSpace: NormalMagnitude()>"
      ]
     },
     "execution_count": 40,
     "metadata": {},
     "output_type": "execute_result"
    }
   ],
   "source": [
    "fs = feets.FeatureSpace(only=[\"histogram2d\"])\n",
    "fs"
   ]
  },
  {
   "cell_type": "code",
   "execution_count": 43,
   "metadata": {},
   "outputs": [
    {
     "data": {
      "text/plain": [
       "{'histogram2d': array([[0., 1., 1., 0., 1., 0., 3., 1., 0., 0.],\n",
       "        [1., 0., 1., 1., 0., 3., 0., 0., 0., 0.],\n",
       "        [0., 2., 4., 2., 0., 1., 1., 1., 0., 0.],\n",
       "        [0., 4., 1., 3., 1., 2., 1., 0., 0., 0.],\n",
       "        [1., 0., 3., 0., 0., 1., 2., 0., 0., 1.],\n",
       "        [1., 0., 0., 1., 0., 1., 0., 1., 1., 0.],\n",
       "        [0., 0., 5., 2., 1., 1., 1., 0., 0., 0.],\n",
       "        [0., 2., 2., 0., 3., 2., 3., 4., 0., 2.],\n",
       "        [1., 2., 1., 2., 1., 1., 2., 1., 0., 0.],\n",
       "        [0., 1., 0., 3., 1., 4., 2., 1., 0., 0.]])}"
      ]
     },
     "execution_count": 43,
     "metadata": {},
     "output_type": "execute_result"
    }
   ],
   "source": [
    "magnitude = np.random.uniform(12, 14, size=100)\n",
    "error = np.random.normal(size=100)\n",
    "fs.extract(magnitude=magnitude, error=error).as_dict()"
   ]
  },
  {
   "cell_type": "code",
   "execution_count": null,
   "metadata": {},
   "outputs": [],
   "source": []
  }
 ],
 "metadata": {
  "celltoolbar": "Edit Metadata",
  "kernelspec": {
   "display_name": "Python 3",
   "language": "python",
   "name": "python3"
  },
  "language_info": {
   "codemirror_mode": {
    "name": "ipython",
    "version": 3
   },
   "file_extension": ".py",
   "mimetype": "text/x-python",
   "name": "python",
   "nbconvert_exporter": "python",
   "pygments_lexer": "ipython3",
   "version": "3.7.5"
  }
 },
 "nbformat": 4,
 "nbformat_minor": 4
}
